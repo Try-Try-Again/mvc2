{
 "cells": [
  {
   "cell_type": "code",
   "execution_count": 104,
   "id": "ba5644ba-1f2b-410f-b228-071e58b59f18",
   "metadata": {},
   "outputs": [],
   "source": [
    "from bs4 import BeautifulSoup\n",
    "import requests\n",
    "import csv"
   ]
  },
  {
   "cell_type": "code",
   "execution_count": 80,
   "id": "869bba92-f952-492f-bfa7-6076763ea158",
   "metadata": {},
   "outputs": [],
   "source": [
    "url = 'https://www.sf4remix.com/mvc2/'\n",
    "r = requests.get(url)"
   ]
  },
  {
   "cell_type": "code",
   "execution_count": 81,
   "id": "757f7f15-e789-4203-90e8-e1b0c8da35c9",
   "metadata": {},
   "outputs": [],
   "source": [
    "roster_soup = BeautifulSoup(r.text, 'html.parser')\n",
    "fighter_tags = roster_soup.find_all('a')[:-2]"
   ]
  },
  {
   "cell_type": "code",
   "execution_count": 88,
   "id": "39ae55d3-62a9-430e-97dd-cea46f677e66",
   "metadata": {},
   "outputs": [],
   "source": [
    "fighter_soups = []\n",
    "\n",
    "for fighter_tag in fighter_tags:\n",
    "    link = url + fighter_tag.get('href')                           \n",
    "    r = requests.get(link)\n",
    "    fighter_soup = BeautifulSoup(r.text, 'html.parser')\n",
    "    fighter_soups.append(fighter_soup)"
   ]
  },
  {
   "cell_type": "code",
   "execution_count": 103,
   "id": "bcf54808-f60c-4fa6-916a-9eb499677866",
   "metadata": {},
   "outputs": [
    {
     "name": "stdout",
     "output_type": "stream",
     "text": [
      "Ryu\n",
      "Zangief\n",
      "Guile\n",
      "Morrigan\n",
      "Anakaris\n",
      "Strider\n",
      "Cyclops\n",
      "Wolverine (Adamantium)\n",
      "Psylocke\n",
      "Iceman\n",
      "Rogue\n",
      "Captain America\n",
      "Spider-man\n",
      "Hulk\n",
      "Venom\n",
      "Dr. Doom\n",
      "Tron Bonne\n",
      "Jill\n",
      "Hayato\n",
      "Ruby Heart\n",
      "Son Son\n",
      "Amingo\n",
      "Marrow\n",
      "Cable\n",
      "Abyss 1\n",
      "Abyss 2\n",
      "Abyss 3\n",
      "Chun-Li\n",
      "MegaMan\n",
      "Roll\n",
      "Akuma\n",
      "BB Hood / Bulleta\n",
      "Felicia\n",
      "Charlie\n",
      "Sakura\n",
      "Dan\n",
      "Cammy\n",
      "Dhalsim\n",
      "M. Bison / Vega / Dictator\n",
      "Ken\n",
      "Gambit\n",
      "Juggernaut\n",
      "Storm\n",
      "Sabretooth\n",
      "Magneto\n",
      "Shuma Gorath\n",
      "War Machine\n",
      "Silver Samurai\n",
      "Omega Red\n",
      "Spiral\n",
      "Colossus\n",
      "Iron Man\n",
      "Sentinel\n",
      "Blackheart\n",
      "Thanos\n",
      "Jin\n",
      "Captain Commando\n",
      "Bonerine\n",
      "Kobun / Servbot\n"
     ]
    }
   ],
   "source": [
    "for soup in fighter_soups:\n",
    "    print(soup.h2.text)"
   ]
  }
 ],
 "metadata": {
  "kernelspec": {
   "display_name": "Python 3 (ipykernel)",
   "language": "python",
   "name": "python3"
  },
  "language_info": {
   "codemirror_mode": {
    "name": "ipython",
    "version": 3
   },
   "file_extension": ".py",
   "mimetype": "text/x-python",
   "name": "python",
   "nbconvert_exporter": "python",
   "pygments_lexer": "ipython3",
   "version": "3.9.5"
  }
 },
 "nbformat": 4,
 "nbformat_minor": 5
}
